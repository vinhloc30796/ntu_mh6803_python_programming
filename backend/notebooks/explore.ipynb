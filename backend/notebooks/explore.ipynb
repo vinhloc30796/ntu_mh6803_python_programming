{
 "cells": [
  {
   "cell_type": "markdown",
   "metadata": {},
   "source": [
    "# Notebook: Explore\n",
    "## 1. Import"
   ]
  },
  {
   "cell_type": "code",
   "execution_count": 1,
   "metadata": {},
   "outputs": [],
   "source": [
    "# Keep these!\n",
    "import os\n",
    "import sys\n",
    "module_path = os.path.abspath(os.path.join('..'))\n",
    "if module_path not in sys.path:\n",
    "    sys.path.append(module_path)\n",
    "\n",
    "from source.main import *"
   ]
  },
  {
   "cell_type": "markdown",
   "metadata": {},
   "source": [
    "## 2. Playground"
   ]
  },
  {
   "cell_type": "code",
   "execution_count": 2,
   "metadata": {},
   "outputs": [
    {
     "data": {
      "text/plain": [
       "[[1656604883420, 26625.95421713943],\n",
       " [1656608473995, 26625.058885712853],\n",
       " [1656612106868, 26574.839102743437],\n",
       " [1656615700312, 26371.029293777443],\n",
       " [1656619267942, 26330.46331252581],\n",
       " [1656623020821, 26153.47868396833],\n",
       " [1656626579703, 26253.931456710663],\n",
       " [1656630070999, 26312.793875207146],\n",
       " [1656633721180, 27284.545836211502],\n",
       " [1656637277267, 28404.117576689736],\n",
       " [1656640991925, 28395.491919386965],\n",
       " [1656644490986, 28221.755045030364],\n",
       " [1656648059335, 27694.978750993792],\n",
       " [1656651779244, 27041.116897968637],\n",
       " [1656655262259, 27121.159355630072],\n",
       " [1656658987666, 27068.017521638365],\n",
       " [1656662475383, 27333.19047297648],\n",
       " [1656666103331, 27241.469866798354],\n",
       " [1656669759557, 27101.688634837246],\n",
       " [1656673255092, 26646.627254007246],\n",
       " [1656676970540, 26785.96972066431],\n",
       " [1656680476206, 26954.391133478144]]"
      ]
     },
     "execution_count": 2,
     "metadata": {},
     "output_type": "execute_result"
    }
   ],
   "source": [
    "# Example 1\n",
    "get_price(\"bitcoin\", 1656604800, 1656683200)"
   ]
  },
  {
   "cell_type": "code",
   "execution_count": 3,
   "metadata": {},
   "outputs": [
    {
     "data": {
      "text/plain": [
       "'Solana crypto is a high throughput blockchain based on the Proof of History (PoH) and Proof of Stake (PoS) consensus. Built by a team of networking engineers, Solana aims to become the blockchain infrastucture for modern internet applications.'"
      ]
     },
     "execution_count": 3,
     "metadata": {},
     "output_type": "execute_result"
    }
   ],
   "source": [
    "# Example 2\n",
    "get_coin_description(\"solana\")"
   ]
  }
 ],
 "metadata": {
  "kernelspec": {
   "display_name": "Python 3 (ipykernel)",
   "language": "python",
   "name": "python3"
  },
  "language_info": {
   "codemirror_mode": {
    "name": "ipython",
    "version": 3
   },
   "file_extension": ".py",
   "mimetype": "text/x-python",
   "name": "python",
   "nbconvert_exporter": "python",
   "pygments_lexer": "ipython3",
   "version": "3.9.13"
  },
  "vscode": {
   "interpreter": {
    "hash": "6b70954286c382b62d619560e21f4a78b0797c563ce94bbc8a0685b68bd7c021"
   }
  }
 },
 "nbformat": 4,
 "nbformat_minor": 2
}
